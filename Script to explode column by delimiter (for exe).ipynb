{
 "cells": [
  {
   "cell_type": "code",
   "execution_count": 2,
   "id": "e5c3cf1e",
   "metadata": {},
   "outputs": [],
   "source": [
    "import sys\n",
    "import os.path\n",
    "import pandas as pd\n",
    "\n",
    "\n",
    "try:\n",
    "    def perform_split(filepath, filename, column, delimiter, exportfilepath, exportname):\n",
    "        \"\"\"\n",
    "        A function to split records in a column by a specified delimiter \n",
    "        \"\"\"\n",
    "        import_path = os.path.join(filepath, filename)\n",
    "        data = pd.read_excel(fr'{import_path}')\n",
    "\n",
    "        # Change column's data type to str in order to split \n",
    "        data = data.astype({column:str})\n",
    "\n",
    "        # Split string by setting 'symbol' as delimiter\n",
    "        data[column] = data[column].str.split(delimiter).fillna(data[column])\n",
    "\n",
    "        # Based on the specified column, transform each element of a list-like to a separated row. Values in other columns are replicated from their original value.\n",
    "        data = data.explode(column, ignore_index=True)\n",
    "\n",
    "        # Export File to GD\n",
    "        export_path = os.path.join(exportfilepath, exportname)\n",
    "        data.to_excel(fr'{export_path}', index=False, header=True)\n",
    "        \n",
    "    filepath = input('Please enter a filepath --e.g C:\\\\\\\\Users\\\\\\\\UserName\\\\\\\\Documents... : ')\n",
    "    filename = input('Please enter a filename --e.g data.xlsx : ')\n",
    "    column = input('Please enter the column to be split --e.g All Paths : ')\n",
    "    delimiter = input('Please enter a delimiter --e.g ;:,/n... : ')\n",
    "    exportfilepath = input('Please enter an exportfilepath --e.g C:\\\\\\\\Users\\\\\\\\UserName\\\\\\\\Documents... : ')\n",
    "    exportname = input('Please enter an exportname: --e.g results.xlsx : ')\n",
    "\n",
    "    perform_split(filepath,filename,column,delimiter,exportfilepath, exportname)\n",
    "    \n",
    "    input('(Press Enter to exit before opening the exported file)') # Waits for user input before closing\n",
    "        \n",
    "except ValueError as v:\n",
    "    # This will run when it cannot be converted or if there is any error\n",
    "    print(v) # Shows the error\n",
    "    input('Press Enter to exit') # Waits for user input before closing"
   ]
  }
 ],
 "metadata": {
  "kernelspec": {
   "display_name": "Python 3",
   "language": "python",
   "name": "python3"
  },
  "language_info": {
   "codemirror_mode": {
    "name": "ipython",
    "version": 3
   },
   "file_extension": ".py",
   "mimetype": "text/x-python",
   "name": "python",
   "nbconvert_exporter": "python",
   "pygments_lexer": "ipython3",
   "version": "3.8.8"
  }
 },
 "nbformat": 4,
 "nbformat_minor": 5
}
